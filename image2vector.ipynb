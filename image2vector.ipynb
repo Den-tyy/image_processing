{
 "cells": [
  {
   "cell_type": "markdown",
   "metadata": {},
   "source": [
    "# Пример векторизации изображений\n"
   ]
  },
  {
   "cell_type": "markdown",
   "metadata": {},
   "source": [
    "## Упрощенно по полутонам\n"
   ]
  },
  {
   "cell_type": "code",
   "execution_count": 2,
   "metadata": {},
   "outputs": [],
   "source": [
    "from PIL import Image\n",
    "import svgwrite\n",
    "\n",
    "\n",
    "def raster_to_vector(input_file, output_file):\n",
    "    # Открываем изображение и конвертируем в черно-белый формат\n",
    "    image = Image.open(input_file).convert(\"L\")\n",
    "    bw_image = image.point(lambda x: 0 if x < 128 else 255, \"1\")\n",
    "\n",
    "    # Получаем размер изображения\n",
    "    width, height = bw_image.size\n",
    "\n",
    "    # Создаем новый SVG файл\n",
    "    dwg = svgwrite.Drawing(output_file, profile=\"tiny\", size=(width, height))\n",
    "\n",
    "    # Обходим все пиксели изображения и добавляем линии в SVG\n",
    "    for y in range(height):\n",
    "        for x in range(width):\n",
    "            if bw_image.getpixel((x, y)) == 0:  # Черный пиксель\n",
    "                # Рисуем квадрат для черного пикселя\n",
    "                dwg.add(dwg.rect(insert=(x, y), size=(1, 1), fill=\"black\"))\n",
    "\n",
    "    # Сохраняем SVG файл\n",
    "    dwg.save()\n",
    "\n",
    "\n",
    "# Пример использования\n",
    "raster_to_vector(\"./data/raster.png\", \"output_image.svg\")"
   ]
  },
  {
   "cell_type": "markdown",
   "metadata": {},
   "source": [
    "## C распознаванием контуров\n"
   ]
  },
  {
   "cell_type": "code",
   "execution_count": 4,
   "metadata": {},
   "outputs": [],
   "source": [
    "import cv2\n",
    "import numpy as np\n",
    "import svgwrite\n",
    "from PIL import Image\n",
    "\n",
    "\n",
    "def raster_to_vector_with_contours(input_file, output_file):\n",
    "    # Открываем изображение и конвертируем в серый формат\n",
    "    image = cv2.imread(input_file, cv2.IMREAD_GRAYSCALE)\n",
    "\n",
    "    # Применяем алгоритм Кэнни для обнаружения краев\n",
    "    edges = cv2.Canny(image, 100, 200)\n",
    "\n",
    "    # Находим контуры на изображении\n",
    "    contours, _ = cv2.findContours(edges, cv2.RETR_TREE, cv2.CHAIN_APPROX_SIMPLE)\n",
    "\n",
    "    # Получаем размер изображения\n",
    "    height, width = edges.shape\n",
    "\n",
    "    # Создаем новый SVG файл\n",
    "    dwg = svgwrite.Drawing(output_file, profile=\"tiny\", size=(width, height))\n",
    "\n",
    "    # Добавляем контуры в SVG файл\n",
    "    for contour in contours:\n",
    "        # Преобразуем контур в список кортежей с координатами\n",
    "        points = [(int(point[0][0]), int(point[0][1])) for point in contour]\n",
    "        if points:\n",
    "            # Добавляем полилинию в SVG файл\n",
    "            dwg.add(dwg.polyline(points, stroke=\"black\", fill=\"none\"))\n",
    "\n",
    "    # Сохраняем SVG файл\n",
    "    dwg.save()\n",
    "\n",
    "\n",
    "# Пример использования\n",
    "raster_to_vector_with_contours(\"./data/raster.png\", \"output_image.svg\")"
   ]
  }
 ],
 "metadata": {
  "kernelspec": {
   "display_name": ".venv",
   "language": "python",
   "name": "python3"
  },
  "language_info": {
   "codemirror_mode": {
    "name": "ipython",
    "version": 3
   },
   "file_extension": ".py",
   "mimetype": "text/x-python",
   "name": "python",
   "nbconvert_exporter": "python",
   "pygments_lexer": "ipython3",
   "version": "3.10.11"
  }
 },
 "nbformat": 4,
 "nbformat_minor": 2
}
